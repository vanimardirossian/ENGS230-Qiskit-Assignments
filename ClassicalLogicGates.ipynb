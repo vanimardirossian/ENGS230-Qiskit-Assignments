{
 "cells": [
  {
   "cell_type": "code",
   "execution_count": 1,
   "metadata": {
    "colab": {},
    "colab_type": "code",
    "id": "5bSt1JszDjaP"
   },
   "outputs": [],
   "source": [
    "from qiskit import *\n",
    "from qiskit.tools.visualization import plot_histogram\n",
    "import numpy as np"
   ]
  },
  {
   "cell_type": "markdown",
   "metadata": {
    "colab_type": "text",
    "id": "i-9JKYc_DjaU"
   },
   "source": [
    "Using the NOT gate (expressed as x in Qiskit), the CNOT gate (expressed as cx in Qiskit) and the Toffoli gate (expressed as ccx in Qiskit) create functions to implement the XOR, AND, NAND, OR and FANOUT gates.\n",
    "\n",
    "An implementation of the NOT gate is provided as an example."
   ]
  },
  {
   "cell_type": "markdown",
   "metadata": {
    "colab_type": "text",
    "id": "pdMeVqQdDjaV"
   },
   "source": [
    "## NOT gate \n",
    "This function takes a binary string input ('0' or '1') and returns the opposite binary output'."
   ]
  },
  {
   "cell_type": "code",
   "execution_count": 2,
   "metadata": {
    "colab": {},
    "colab_type": "code",
    "id": "wBpKpV2gDjaW"
   },
   "outputs": [],
   "source": [
    "def NOT(input):\n",
    "    \"\"\"\n",
    "    Takes as input a string representing either a binary 0 or 1,\n",
    "    returns its binary complement.\n",
    "    \n",
    "    input (string): a binary number representing a bit.\n",
    "    returns(int): the complement of the input bit.\n",
    "    \"\"\"\n",
    "    q = QuantumRegister(1) # a qubit in which to encode and manipulate the input\n",
    "    c = ClassicalRegister(1) # a bit to store the output\n",
    "    qc = QuantumCircuit(q, c) # this is where the quantum program goes\n",
    "    \n",
    "    # We encode '0' as the qubit state |0⟩, and '1' as |1⟩\n",
    "    # Since the qubit is initially |0⟩, we don't need to do anything for an input of '0'\n",
    "    # For an input of '1', we do an x to rotate the |0⟩ to |1⟩\n",
    "    if input=='1':\n",
    "        qc.x( q[0] )\n",
    "        \n",
    "    # Now we've encoded the input, we can do a NOT on it using x\n",
    "    qc.x( q[0] )\n",
    "    \n",
    "    # Finally, we extract the |0⟩/|1⟩ output of the qubit and encode it in the bit c[0]\n",
    "    qc.measure( q[0], c[0] )\n",
    "    \n",
    "    # We'll run the program on a simulator\n",
    "    backend = Aer.get_backend('qasm_simulator')\n",
    "    # Since the output will be deterministic, we can use just a single shot to get it\n",
    "    job = execute(qc,backend,shots=1)\n",
    "    output = next(iter(job.result().get_counts()))\n",
    "    \n",
    "    return output"
   ]
  },
  {
   "cell_type": "markdown",
   "metadata": {
    "colab_type": "text",
    "id": "N2Xy78n0DjaY"
   },
   "source": [
    "## XOR gate \n",
    "Takes two binary strings as input and gives one as output.\n",
    "\n",
    "The output is '0' when the inputs are equal and '1' otherwise.\n",
    "\n",
    "The following is the logic table for the CNOT gate, we can see that the result that is stored in |1⟩ is in fact the result we are interested in, so we apply the cx gate on the two inputs, and measure |1⟩, which is where CNOT makes its changes if the first qubit is not |0⟩\n",
    "\n",
    "<table>\n",
    "  <tr>\n",
    "    <th colspan=\"2\">Input</th>\n",
    "    <th colspan=\"2\">CNOT Output</th>\n",
    "  </tr>\n",
    "  <tr>\n",
    "      <td>q<sub>0</sub></td>\n",
    "    <td >q<sub>1</sub></td>\n",
    "    <td >q<sub>0</sub></td>\n",
    "    <td >q<sub>1</sub></td>\n",
    "  </tr>\n",
    "  <tr>\n",
    "    <td >0</td>\n",
    "    <td >0</td>\n",
    "    <td >0</td>\n",
    "    <td >0</td>\n",
    "  </tr>\n",
    "  <tr>\n",
    "    <td >0</td>\n",
    "    <td >1</td>\n",
    "    <td >0</td>\n",
    "    <td >1</td>\n",
    "  </tr>\n",
    "  <tr>\n",
    "    <td >1</td>\n",
    "    <td >0</td>\n",
    "    <td >1</td>\n",
    "    <td >1</td>\n",
    "  </tr>\n",
    "  <tr>\n",
    "    <td >1</td>\n",
    "    <td >1</td>\n",
    "    <td >1</td>\n",
    "    <td >0</td>\n",
    "  </tr>\n",
    "</table>"
   ]
  },
  {
   "cell_type": "code",
   "execution_count": 3,
   "metadata": {
    "colab": {},
    "colab_type": "code",
    "id": "FXhk1NVqDjaZ"
   },
   "outputs": [],
   "source": [
    "def XOR(input1, input2):\n",
    "    \"\"\"\n",
    "    Takes as input two strings representing either a binary 0 or 1,\n",
    "    returns their sum modulo 2.\n",
    "    \n",
    "    input1 (string): a binary number representing a bit.\n",
    "    input2 (string): a binary number representing a bit.\n",
    "    returns(int): the sum modulo two of the two bitstrings.\n",
    "    \"\"\"\n",
    "    q = QuantumRegister(2) # two qubits in which to encode and manipulate the input\n",
    "    c = ClassicalRegister(1) # a bit to store the output\n",
    "    qc = QuantumCircuit(q, c) # this is where the quantum program goes\n",
    "\n",
    "    # Since the qubits are initially in the |0⟩ state, we don't need to do anything for an input of '0'\n",
    "    # For either input that is '1', we flip the corresponding qubit from |0⟩ to |1⟩\n",
    "    if input1 == '1':\n",
    "        qc.x(q[0])\n",
    "    if input2 == '1':\n",
    "        qc.x(q[1])\n",
    "    \n",
    "    # As explained above, we apply the CNOT (cx) gate on input1 and input2, and measure the second qubit.\n",
    "    qc.cx(q[0],q[1])\n",
    "    \n",
    "    qc.measure(q[1],c[0]) # output from qubit 2 is measured\n",
    "    # We'll run the program on a simulator\n",
    "    backend = Aer.get_backend('qasm_simulator')\n",
    "    # Since the output will be deterministic, we can use just a single shot to get it\n",
    "    job = execute(qc,backend,shots=1,memory=True)\n",
    "    output = job.result().get_memory()[0]\n",
    "    \n",
    "    return output"
   ]
  },
  {
   "cell_type": "markdown",
   "metadata": {
    "colab_type": "text",
    "id": "Y2g8hZRqDjac"
   },
   "source": [
    "## AND gate \n",
    "Takes two binary strings as input and gives one as output.\n",
    "\n",
    "The output is '1' only when both the inputs are '1'.\n",
    "\n",
    "The Toffoli gate, defined on inputs $(q_0,q_1,q_2)$ as $(q_0,q_1,(q_0\\:AND\\:q_1)XOR(q_2))$.\n",
    "\n",
    "Note that the output in the third qubit $(q_0\\:AND\\:q_1)XOR(q_2)$ is the same as $q_0\\:AND\\:q_1$ when $q_2=|0⟩$, so if we set our third qubit to |0⟩, we can implement the AND gate on the first two inputs.\n",
    "\n",
    "The following is the logic table for the Toffoli gate, for the cases where the third qubit input is zero.\n",
    "<table>\n",
    "  <tr>\n",
    "    <th colspan=\"3\">Input</th>\n",
    "    <th colspan=\"3\">Toffoli Output</th>\n",
    "  </tr>\n",
    "  <tr>\n",
    "    <td>q<sub>0</sub></td>\n",
    "    <td>q<sub>1</sub></td>\n",
    "    <td>q<sub>2</sub></td>\n",
    "    <td>q<sub>0</sub></td>\n",
    "    <td>q<sub>1</sub></td>\n",
    "    <td>q<sub>2</sub></td>\n",
    "  </tr>\n",
    "   <tr>\n",
    "    <td>0</td>\n",
    "    <td>0</td>\n",
    "    <td>0</td>\n",
    "    <td>0</td>\n",
    "    <td>0</td>\n",
    "    <td>0</td>\n",
    "  </tr>\n",
    "  <tr>\n",
    "    <td>0</td>\n",
    "    <td>1</td>\n",
    "    <td>0</td>\n",
    "    <td>0</td>\n",
    "    <td>1</td>\n",
    "    <td>0</td>\n",
    "  </tr>\n",
    "  <tr>\n",
    "    <td>1</td>\n",
    "    <td>0</td>\n",
    "    <td>0</td>\n",
    "    <td>1</td>\n",
    "    <td>0</td>\n",
    "    <td>0</td>\n",
    "  </tr>\n",
    "  <tr>\n",
    "    <td>1</td>\n",
    "    <td>1</td>\n",
    "    <td>0</td>\n",
    "    <td>1</td>\n",
    "    <td>1</td>\n",
    "    <td>1</td>\n",
    "  </tr>\n",
    "</table>"
   ]
  },
  {
   "cell_type": "code",
   "execution_count": 4,
   "metadata": {
    "colab": {},
    "colab_type": "code",
    "id": "prUdLaDcDjad"
   },
   "outputs": [],
   "source": [
    "def AND(input1,input2):\n",
    "    \"\"\"\n",
    "    Takes as input two strings representing either a binary 0 or 1,\n",
    "    returns 0 if at least one of them is 0, and 1 otherwise.\n",
    "    \n",
    "    input1 (string): a binary number representing a bit.\n",
    "    input2 (string): a binary number representing a bit.\n",
    "    returns(int): the result of input1 AND input2.\n",
    "    \"\"\"\n",
    "    q = QuantumRegister(3) # two qubits in which to encode the input, and one for the output\n",
    "    c = ClassicalRegister(1) # a bit to store the output\n",
    "    qc = QuantumCircuit(q, c) # this is where the quantum program goes\n",
    "\n",
    "    # Since the qubits are initially in the |0⟩ state, we don't need to do anything for an input of '0'\n",
    "    # For either input that is '1', we flip the corresponding qubit from |0⟩ to |1⟩\n",
    "    if input1 == '1':\n",
    "        qc.x(q[0])\n",
    "    if input2 == '1':\n",
    "        qc.x(q[1])\n",
    "    # We apply the Toffoli gate on the three qubits, where q[2] is in state |0⟩\n",
    "    qc.ccx(q[0],q[1],q[2])\n",
    "    qc.measure(q[2],c[0]) # output from qubit 3 is measured\n",
    "    \n",
    "    # We'll run the program on a simulator\n",
    "    backend = Aer.get_backend('qasm_simulator')\n",
    "    # Since the output will be deterministic, we can use just a single shot to get it\n",
    "    job = execute(qc, backend,shots=1,memory=True)\n",
    "    output = job.result().get_memory()[0]\n",
    "    \n",
    "    return output"
   ]
  },
  {
   "cell_type": "markdown",
   "metadata": {
    "colab_type": "text",
    "id": "iz5AY0g8Djaf"
   },
   "source": [
    "## NAND gate \n",
    "Takes two binary strings as input and gives one as output.\n",
    "\n",
    "The output is '0' only when both the inputs are '1'.\n",
    "\n",
    "The NAND gate will be implemented using the Toffoli and the X (NOT) gates, by simply applying the Toffoli gate on the three qubits, where the third qubit is in state |0⟩, and then applying the X gate on the third qubit."
   ]
  },
  {
   "cell_type": "code",
   "execution_count": 5,
   "metadata": {
    "colab": {},
    "colab_type": "code",
    "id": "9uPKZGzUDjag"
   },
   "outputs": [],
   "source": [
    "def NAND(input1,input2):\n",
    "    \"\"\"\n",
    "    Takes as input two strings representing either a binary 0 or 1,\n",
    "    returns 1 if at least one of them is 0, and 0 otherwise (a composition of AND and NOT).\n",
    "    \n",
    "    input1 (string): a binary number representing a bit.\n",
    "    input2 (string): a binary number representing a bit.\n",
    "    returns(int): the result of NOT(input1 AND input2).\n",
    "    \"\"\"\n",
    "    q = QuantumRegister(3) # two qubits in which to encode the input, and one for the output\n",
    "    c = ClassicalRegister(1) # a bit to store the output\n",
    "    qc = QuantumCircuit(q, c) # this is where the quantum program goes\n",
    "    \n",
    "    # Since the qubits are initially in the |0⟩ state, we don't need to do anything for an input of '0'\n",
    "    # For either input that is '1', we flip the corresponding qubit from |0⟩ to |1⟩\n",
    "    if input1 == '1':\n",
    "        qc.x(q[0])\n",
    "    if input2 == '1':\n",
    "        qc.x(q[1])\n",
    "    # We first apply the Toffoli gate on the three qubits, where q[2] is in state |0⟩   \n",
    "    qc.ccx(q[0],q[1],q[2])\n",
    "    # Then, we apply the X gate on q[2], where q[2] is the result of q[0] AND q[1] \n",
    "    qc.x(q[2])\n",
    "    qc.measure(q[2],c[0]) # output from qubit 3 is measured\n",
    "    \n",
    "    # We'll run the program on a simulator\n",
    "    backend = Aer.get_backend('qasm_simulator')\n",
    "    # Since the output will be deterministic, we can use just a single shot to get it\n",
    "    job = execute(qc,backend,shots=1,memory=True)\n",
    "    output = job.result().get_memory()[0]\n",
    "    \n",
    "    return output"
   ]
  },
  {
   "cell_type": "markdown",
   "metadata": {
    "colab_type": "text",
    "id": "YFGJcFblDjaj"
   },
   "source": [
    "## OR gate \n",
    "Takes two binary strings as input and gives one as output.\n",
    "\n",
    "The output is '1' if either input is '1'.\n",
    "\n",
    "OR can be implemented by first applying the AND gate on the two inputs, second, applying the XOR gate on the two inputs, and lastly, applying the XOR gate on the results of the previous two gates.\n",
    "\n",
    "Here is a logic table to demonstrate this sequence of operations.\n",
    "\n",
    "<table>\n",
    "  <tr>\n",
    "    <th>q<sub>0</sub></th>\n",
    "    <th>q<sub>1</sub></th>\n",
    "    <th>q<sub>0</sub> AND q<sub>1</sub></th>\n",
    "    <th>q<sub>0</sub> XOR q<sub>1</sub></th>\n",
    "    <th>(q<sub>0</sub> AND q<sub>1</sub>) XOR (q<sub>0</sub> XOR q<sub>1</sub>)</th>\n",
    "  </tr>\n",
    "  <tr>\n",
    "    <td>0</td>\n",
    "    <td>0</td>\n",
    "    <td>0</td>\n",
    "    <td>0</td>\n",
    "    <td>0</td>\n",
    "  </tr>\n",
    "  <tr>\n",
    "    <td>0</td>\n",
    "    <td>1</td>\n",
    "    <td>0</td>\n",
    "    <td>1</td>\n",
    "    <td>1</td>\n",
    "  </tr>\n",
    "  <tr>\n",
    "    <td>1</td>\n",
    "    <td>0</td>\n",
    "    <td>0</td>\n",
    "    <td>1</td>\n",
    "    <td>1</td>\n",
    "  </tr>\n",
    "  <tr>\n",
    "    <td>1</td>\n",
    "    <td>1</td>\n",
    "    <td>1</td>\n",
    "    <td>0</td>\n",
    "    <td>1</td>\n",
    "  </tr>\n",
    "</table>"
   ]
  },
  {
   "cell_type": "code",
   "execution_count": 6,
   "metadata": {
    "colab": {},
    "colab_type": "code",
    "id": "soLOxTsnDjak"
   },
   "outputs": [],
   "source": [
    "def OR(input1, input2):\n",
    "    \"\"\"\n",
    "    Takes as input two strings representing either a binary 0 or 1,\n",
    "    returns 1 if at least one of them is 1, and 0 otherwise (a composition of AND and XOR).\n",
    "    \n",
    "    input1 (string): a binary number representing a bit.\n",
    "    input2 (string): a binary number representing a bit.\n",
    "    returns(int): the result of (input1 AND input2) XOR (input1 XOR input2).\n",
    "    \"\"\"\n",
    "    q = QuantumRegister(3) # two qubits in which to encode the input, and one for the output\n",
    "    c = ClassicalRegister(1) # a bit to store the output\n",
    "    qc = QuantumCircuit(q, c) # this is where the quantum program goes\n",
    "    \n",
    "    # Since the qubits are initially in the |0⟩ state, we don't need to do anything for an input of '0'\n",
    "    # For either input that is '1', we flip the corresponding qubit from |0⟩ to |1⟩\n",
    "    if input1 == '1':\n",
    "        qc.x(q[0])\n",
    "    if input2 == '1':\n",
    "        qc.x(q[1])\n",
    "    \n",
    "    # Note that we cannot apply the cx gate before the cxx gate, because cx will alter the second qubit.\n",
    "    # So first we apply the cxx gate (AND), whose result is in the third qubit, then we apply the cx gate (XOR), \n",
    "    # whose result is in the second qubit, then we apply the cx gate (XOR) on the second and third qubits,\n",
    "    # storing the result in the third qubit.\n",
    "    qc.ccx(q[0],q[1],q[2])\n",
    "    qc.cx(q[0],q[1])\n",
    "    qc.cx(q[1],q[2])\n",
    "    \n",
    "    qc.measure(q[2], c[0]) # output from qubit 3 is measured\n",
    "    \n",
    "    # We'll run the program on a simulator\n",
    "    backend = Aer.get_backend('qasm_simulator')\n",
    "    # Since the output will be deterministic, we can use just a single shot to get it\n",
    "    job = execute(qc,backend,shots=1,memory=True)\n",
    "    output = job.result().get_memory()[0]\n",
    "    \n",
    "    return output"
   ]
  },
  {
   "cell_type": "markdown",
   "metadata": {
    "colab_type": "text",
    "id": "2hKv8b4jDjam"
   },
   "source": [
    "## FANOUT gate\n",
    "\n",
    "Takes one binary string as input and gives two copies as output."
   ]
  },
  {
   "cell_type": "code",
   "execution_count": 7,
   "metadata": {
    "colab": {},
    "colab_type": "code",
    "id": "5x-YipfkDjan"
   },
   "outputs": [],
   "source": [
    "def FANOUT(input):\n",
    "    \"\"\"\n",
    "    Takes as input a string representing either a binary 0 or 1,\n",
    "    returns its binary complement\n",
    "    \n",
    "    input (string): a binary number representing a bit\n",
    "    returns(int): two copies of the input bitstring. \n",
    "    \"\"\"\n",
    "    q = QuantumRegister(2) # two qubits in which to encode the input, and one for the output\n",
    "    c = ClassicalRegister(2) # a bit to store the output\n",
    "    qc = QuantumCircuit(q, c) # this is where the quantum program goes\n",
    "    \n",
    "    # Since the qubits are initially in the |0⟩ state, we don't need to do anything for an input of '0'\n",
    "    # For input of '1', we flip the two qubits from |0⟩ to |1⟩ (since we need to measure two qubits for)\n",
    "    # the copy of the input.\n",
    "    if input == '1':\n",
    "        qc.x(q[0])\n",
    "        qc.x(q[1])\n",
    "    # we measure the output from both qubits\n",
    "    qc.measure(q[0],c[0]) \n",
    "    qc.measure(q[1],c[1])\n",
    "    \n",
    "    # We'll run the program on a simulator\n",
    "    backend = Aer.get_backend('qasm_simulator')\n",
    "    # Since the output will be deterministic, we can use just a single shot to get it\n",
    "    job = execute(qc,backend,shots=1,memory=True)\n",
    "    output = job.result().get_memory()[0]\n",
    "    \n",
    "    return output"
   ]
  },
  {
   "cell_type": "markdown",
   "metadata": {
    "colab_type": "text",
    "id": "R-ziqFDsDjap"
   },
   "source": [
    "## Tests \n",
    "The following code runs the functions above for all possible inputs, so that you can check whether they work."
   ]
  },
  {
   "cell_type": "code",
   "execution_count": 8,
   "metadata": {
    "colab": {},
    "colab_type": "code",
    "id": "y4IIaxfJDjaq",
    "outputId": "f27ebbd5-2a7f-44d8-ab5f-6f337a15e987"
   },
   "outputs": [
    {
     "name": "stdout",
     "output_type": "stream",
     "text": [
      "\n",
      "Results for the NOT gate\n",
      "    Input 0 gives output 1\n",
      "    Input 1 gives output 0\n",
      "\n",
      "Results for the XOR gate\n",
      "    Inputs 0 0 give output 0\n",
      "    Inputs 0 1 give output 1\n",
      "    Inputs 1 0 give output 1\n",
      "    Inputs 1 1 give output 0\n",
      "\n",
      "Results for the AND gate\n",
      "    Inputs 0 0 give output 0\n",
      "    Inputs 0 1 give output 0\n",
      "    Inputs 1 0 give output 0\n",
      "    Inputs 1 1 give output 1\n",
      "\n",
      "Results for the NAND gate\n",
      "    Inputs 0 0 give output 1\n",
      "    Inputs 0 1 give output 1\n",
      "    Inputs 1 0 give output 1\n",
      "    Inputs 1 1 give output 0\n",
      "\n",
      "Results for the OR gate\n",
      "    Inputs 0 0 give output 0\n",
      "    Inputs 0 1 give output 1\n",
      "    Inputs 1 0 give output 1\n",
      "    Inputs 1 1 give output 1\n",
      "\n",
      "Results for the FANOUT gate\n",
      "    Input 0 gives output 00\n",
      "    Input 1 gives output 11\n"
     ]
    }
   ],
   "source": [
    "print('\\nResults for the NOT gate')\n",
    "for input in ['0','1']:\n",
    "    print('    Input',input,'gives output',NOT(input))\n",
    "    \n",
    "print('\\nResults for the XOR gate')\n",
    "for input1 in ['0','1']:\n",
    "    for input2 in ['0','1']:\n",
    "        print('    Inputs',input1,input2,'give output',XOR(input1,input2))\n",
    "\n",
    "print('\\nResults for the AND gate')\n",
    "for input1 in ['0','1']:\n",
    "    for input2 in ['0','1']:\n",
    "        print('    Inputs',input1,input2,'give output',AND(input1,input2))\n",
    "\n",
    "print('\\nResults for the NAND gate')\n",
    "for input1 in ['0','1']:\n",
    "    for input2 in ['0','1']:\n",
    "        print('    Inputs',input1,input2,'give output',NAND(input1,input2))\n",
    "\n",
    "print('\\nResults for the OR gate')\n",
    "for input1 in ['0','1']:\n",
    "    for input2 in ['0','1']:\n",
    "        print('    Inputs',input1,input2,'give output',OR(input1,input2))\n",
    "\n",
    "print('\\nResults for the FANOUT gate')\n",
    "for input in ['0','1']:\n",
    "    print('    Input',input,'gives output',FANOUT(input))"
   ]
  },
  {
   "cell_type": "code",
   "execution_count": 9,
   "metadata": {
    "colab": {},
    "colab_type": "code",
    "id": "Amiwuhy5Djaw",
    "outputId": "2925ddeb-06d3-4c85-9631-0537ea0e33e5"
   },
   "outputs": [
    {
     "data": {
      "text/plain": [
       "{'qiskit-terra': '0.12.0',\n",
       " 'qiskit-aer': '0.4.1',\n",
       " 'qiskit-ignis': '0.2.0',\n",
       " 'qiskit-ibmq-provider': '0.5.0',\n",
       " 'qiskit-aqua': '0.6.4',\n",
       " 'qiskit': '0.16.1'}"
      ]
     },
     "execution_count": 9,
     "metadata": {},
     "output_type": "execute_result"
    }
   ],
   "source": [
    "import qiskit\n",
    "qiskit.__qiskit_version__"
   ]
  }
 ],
 "metadata": {
  "colab": {
   "name": "2.Classical Logic Gates with Quantum Circuits.ipynb",
   "provenance": []
  },
  "kernelspec": {
   "display_name": "Python 3",
   "language": "python",
   "name": "python3"
  },
  "language_info": {
   "codemirror_mode": {
    "name": "ipython",
    "version": 3
   },
   "file_extension": ".py",
   "mimetype": "text/x-python",
   "name": "python",
   "nbconvert_exporter": "python",
   "pygments_lexer": "ipython3",
   "version": "3.7.6"
  }
 },
 "nbformat": 4,
 "nbformat_minor": 1
}
