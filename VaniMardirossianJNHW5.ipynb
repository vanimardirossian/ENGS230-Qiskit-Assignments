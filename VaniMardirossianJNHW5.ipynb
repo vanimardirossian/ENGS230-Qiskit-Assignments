{
 "cells": [
  {
   "cell_type": "markdown",
   "metadata": {},
   "source": [
    "# <center>QKD - Ekert 91 protocol</center>\n",
    "\n",
    "## *Introduction*\n",
    "\n",
    "There are various forms of quantum key distribution or QKD described by different protocols. They all make use of quantum mechanical properties to establish shared lists of random numbers that can be used for encryption. One such protocol is the BB84 QKD protocol where one user, Alice, prepares a speciﬁc state that she sends to another user, Bob. Bob then measures the state, and Alice and Bob then perform sifting by comparing the preparation bases and the measurement bases, and then follow several classical postprocessing steps to establish secure encryption keys. Protocols of this sort, which make use of *quantum superposition* where one party prepares a state and the other party measures it, are called *prepare and measure* QKD protocols. An alternative set of protocols are called *entanglement-based* protocols, and they make use of entanglement.  \n",
    "\n",
    "A related entanglement-based protocol is **E91 or Ekert91** protocol, invented by Artur Ekert in 1991. In this protocol, a transmitter consisting of an entanglement source generates a two-photon entangled state known as a **maximally entangled Bell state**, with one photon being sent to Alice and the other photon being sent to Bob. The photons are sent across quantum communication channels that can reliably transmit the single-photon states and preserve their entanglement. The relevant property of Bell states is that the photons are *correlated in multiple measurement bases*. For an ideal transmission across the channel, if Alice and Bob choose the same measurement basis, their measurement results will be perfectly correlated between the measurement devices, but individual measurements at each side will look random. Alternately, if Alice chooses, say, $\\{|0\\rangle, |1\\rangle\\}$ basis and Bob chooses the $\\{|+\\rangle, |-\\rangle\\}$ measurement basis, the measurements will not be correlated at all. And for intermediate basis choices, their measurements will be *partly correlated*.\n"
   ]
  },
  {
   "cell_type": "markdown",
   "metadata": {},
   "source": [
    "## *Quantum entanglement*"
   ]
  },
  {
   "cell_type": "markdown",
   "metadata": {},
   "source": [
    "The E91 protocol is based on the use of entangled states and Bell's theorem.\n",
    "As an entangled state can be used one of the Bell states, e.g., the singlet state \n",
    "\n",
    "$$\\lvert\\Psi^-\\rangle =\n",
    "  \\frac{1}{\\sqrt{2}}(\\lvert0\\rangle_A\\otimes\\lvert1\\rangle_B - \\lvert1\\rangle_A\\otimes\\lvert0\\rangle_B) =\n",
    "  \\frac{1}{\\sqrt{2}}(\\lvert01\\rangle - \\lvert10\\rangle),$$\n",
    "  \n",
    "An observable for a single qubit can be defined by a direction $\\vec{n}=(n_x, n_y, n_z)$ on the Bloch sphere as\n",
    "\n",
    "$$\\vec{n} \\cdot \\vec{\\sigma} = \n",
    "n_x X + n_y Y + n_z Z,$$\n",
    "\n",
    "where $\\vec{\\sigma} = (X, Y, Z)$ and $X, Y, Z$ are the Pauli matrices.\n",
    "For two qubits *A* and *B*, the observable $(\\vec{a} \\cdot \\vec{\\sigma})_A \\otimes (\\vec{b} \\cdot \\vec{\\sigma})_B$ describes the joint measurement, defined by the directions $\\vec{a}$ and $\\vec{b}$.\n",
    "It can be shown that the expectation value of this observable in the singlet state is\n",
    "\n",
    "$$\\langle (\\vec{a} \\cdot \\vec{\\sigma})_A \\otimes (\\vec{b} \\cdot \\vec{\\sigma})_B \\rangle_{\\psi_s} =\n",
    "-\\vec{a} \\cdot \\vec{b}.$$\n",
    "\n",
    "Here we see an interesting fact: if Alice and Bob measure the observables A and B deifined by the same directions, they will obtain the opposite results.\n",
    "Thus, if Alice got the result $\\pm 1$, then Bob *with $100\\%$ certainty* will get the result $\\mp 1$, i.e. the results will be perfectly anticorrelated."
   ]
  },
  {
   "cell_type": "markdown",
   "metadata": {},
   "source": [
    "## *CHSH inequality*"
   ]
  },
  {
   "cell_type": "markdown",
   "metadata": {},
   "source": [
    "Suppose Alice and Bob have each a qubit from the singlet state \n",
    "\n",
    "$$\n",
    "|\\Psi^- \\rangle = \\frac{1}{\\sqrt{2}}\\Big(|0 \\rangle_A | 1 \\rangle_B - | 1 \\rangle_A | 0\\rangle_B\\Big)\n",
    "$$  \n",
    "\n",
    "Alice randomly chooses between two different options to measure her qubit, $Q$ or $R$, once her photon arrives at her laboratory. Similarly, Bob randomly decides between two other measurements, $S$ or $T$, upon arrival of his qubit. Since Alice and Bob decide on and execute the type of measurement of their qubit at the same time, any disturbance of each others process can be ruled out – information can not propagate faster than light. Their measurements yield either $1$ or $-1$. Considering all different measurement outcomes and some potential noise in the process the following Bell’s inequality – with the expectation value $E(x)$ being the probability-weighted average of all possible measurement outcomes $x \\in \\{ -1,1 \\}$ – is always true if there exist a set of hidden variables:\n",
    "\n",
    "$$ |E(QS)+E(RS)-E(RT)+E(QT) | \\leq 2$$\n",
    "\n",
    "Incorporating the previously established rules of quantum mechanics and the deﬁnition of Alice’s and Bob’s measurements as single or combinations of quantum Z-gates and X-gates, Q,R,S, and T can for example be expressed the following way:  \n",
    "\n",
    "$$Q = X_A, \\quad R = Z_A, \\quad S= -\\frac{1}{\\sqrt{2}} (X_B + Z_B)=-H_B \\text{ (Hadamard)} \\quad T= \\frac{1}{\\sqrt{2}} (-X_B + Z_B)$$\n",
    "\n",
    "Performing joint measurements of these observables, the following expectation values can be obtained:\n",
    "\\begin{eqnarray*}\n",
    " \\langle Q \\otimes S \\rangle_{\\psi^-} &= \\frac{1}{\\sqrt{2}}, \\quad \n",
    "\\langle R \\otimes T \\rangle_{\\psi^-}  &= -\\frac{1}{\\sqrt{2}}, \\qquad \\\\\n",
    " \\langle R \\otimes S \\rangle_{\\psi^-} &= \\frac{1}{\\sqrt{2}}, \\quad\n",
    " \\langle Q \\otimes T \\rangle_{\\psi^-} &= \\frac{1}{\\sqrt{2}}.\n",
    "\\end{eqnarray*}  \n",
    "\n",
    "Let's derive one of the above equations. You are recommended to derive the others.\n",
    "\n",
    "\\begin{eqnarray*}\n",
    "\\langle RT \\rangle = \\langle\\Psi^-| R \\otimes T |\\Psi^-\\rangle &= \n",
    "\\frac{1}{\\sqrt{2}}\\Big(\\langle 0 |_A \\langle 1 |_B -  \\langle 1 |_A \\langle 0|_B\\Big)\n",
    "\\Big(Z_A\\otimes \\frac{Z_B-X_B}{\\sqrt{2}}\\Big)\n",
    "\\frac{1}{\\sqrt{2}}\\Big(|0 \\rangle_A | 1 \\rangle_B - | 1 \\rangle_A | 0\\rangle_B\\Big) \\\\\n",
    "&= \\frac{1}{2\\sqrt{2}}\\Big(\\langle 0 |_A \\langle 1 |_B -  \\langle 1 |_A \\langle 0|_B\\Big)(Z_B-X_B)\n",
    "\\Big(|0 \\rangle_A | 1 \\rangle_B + | 1 \\rangle_A | 0\\rangle_B\\Big)\\\\\n",
    "&=\\frac{1}{2\\sqrt{2}}\\Big(\\langle 0 |_A \\langle 1 |_B -  \\langle 1 |_A \\langle 0|_B\\Big)\n",
    "\\Big(-|0 \\rangle_A | 1 \\rangle_B + | 1 \\rangle_A | 0\\rangle_B - | 0 \\rangle_A | 0\\rangle_B - | 1 \\rangle_A | 1\\rangle_B\\Big)\\\\\n",
    "&= \\frac{1}{2\\sqrt{2}}(-1-1) = -\\frac{1}{\\sqrt{2}}\n",
    "\\end{eqnarray*} \n",
    "\n",
    "Now we can costruct the *Clauser-Horne-Shimony-Holt (CHSH) correlation value*:\n",
    "\n",
    "$$C =\n",
    "\\langle Q\\otimes S \\rangle + \\langle R \\otimes S \\rangle - \\langle R \\otimes T \\rangle + \\langle Q \\otimes T \\rangle=\n",
    "2 \\sqrt{2} > 2.$$\n",
    "\n",
    "The violation of CHSH inequality is experimentally conﬁrmed ruling out the existence of hidden variables and thus quantum mechanics is complete.\n",
    "This fact finds its application in the E91 protocol."
   ]
  },
  {
   "cell_type": "markdown",
   "metadata": {},
   "source": [
    "## *The protocol* \n",
    "\n",
    "To implement the E91 quantum key distribution protocol, there must be a source of qubits prepared in the singlet state.\n",
    "It does not matter to whom this source belongs: to Alice, to Bob, to some trusted third-party Charlie or even to Eve.\n",
    "\n",
    "The steps of the E91 protocol are following."
   ]
  },
  {
   "cell_type": "markdown",
   "metadata": {},
   "source": [
    "1. The singlet state preparation device creates pairs of qubits in entangled state $\\lvert\\psi_s\\rangle$ and from each pairs, sends qubit *A* to Alice and qubit *B* to Bob via the quantum channel.\n",
    "![](images/singlet_distribution.png)\n",
    "\n",
    "2. Alice and Bob generate strings $\\theta=(\\theta_1 \\ldots \\theta_N)$ and $\\tilde{\\theta}=(\\tilde{\\theta}_1 \\ldots \\tilde{\\theta}_N)$, respectively, where $\\theta_i, \\tilde{\\theta}_j = 1, 2, 3$.\n",
    "Depending on the elements of these strings, Alice and Bob measure their qubits relative to the following directions:\n",
    "\\begin{align*}\n",
    " \\theta_i = 1: \\quad \\vec{a}_1 &= (1,0,0) \\quad (Q \\text{ observable}) &\n",
    " \\tilde{\\theta}_j = 1: \\quad \\vec{b}_1 &= \\left(\\frac{1}{\\sqrt{2}},0,\\frac{1}{\\sqrt{2}}\\right) \\quad (S \\text{ observable})\n",
    " \\\\\n",
    " \\theta_i = 2: \\quad \\vec{a}_2 &= \\left(\\frac{1}{\\sqrt{2}},0,\\frac{1}{\\sqrt{2}}\\right) \\quad (S \\text{ observable}) &\n",
    " \\tilde{\\theta}_j = 2: \\quad \\vec{b}_2 &= (0,0,1) \\quad ( \\text{R observable})\n",
    " \\\\\n",
    " \\theta_i = 3: \\quad \\vec{a}_3 &= (0,0,1) \\quad (R \\text{ observable}) &\n",
    " \\tilde{\\theta}_j = 3: \\quad \\vec{b}_3 &= \\left(-\\frac{1}{\\sqrt{2}},0,\\frac{1}{\\sqrt{2}}\\right) \\quad (T \\text{ observable})\n",
    "\\end{align*}\n",
    "<img src=\"images/vectors.png\" width=\"500 px\" align=\"center\">\n",
    "We can describe this process as a measurement of the observables $(\\vec{a}_i \\cdot \\vec{\\sigma})_A \\otimes (\\vec{b}_j \\cdot \\vec{\\sigma})_B$ for each singlet state created by Charlie.  \n",
    "\n",
    "3. Alice and Bob record the results of their measurements as elements of strings $a=(a_1 \\ldots a_N)$ and $b =(b_1 \\ldots b_N)$ respectively, where $a_i, b_j = \\pm 1$.  \n",
    "\n",
    "4. Using the classical channel, participants compare their strings $\\theta=(\\theta_1 \\ldots \\theta_N)$ and $\\tilde{\\theta}=(\\tilde{\\theta}_1 \\ldots \\tilde{\\theta}_N)$.\n",
    "In other words, Alice and Bob tell each other which measurements they have performed during the step 2.\n",
    "If Alice and Bob have measured the $m$-th entangled pair of qubits with respect to the same direction (i.e. $(\\vec{a}_2, \\vec{b}_1)$ or $(\\vec{a}_3, \\vec{b}_2)$ for Alice's and Bob's qubit respectively), then they are sure that they obtained opposite results, i.e. $a_m = - b_m$.  \n",
    "Thus, for the $l$-th bit of the key strings $k^A=(k_1 \\ldots k_n),k^{B}=(k_1^{'} \\ldots k_n^{'})$ Alice and Bob can write $k_l = a_m, k_l^{'} = -a_m^{'}$.\n",
    "![](images/step3-4strings.png)\n",
    "\n",
    "5. The group of measurements with differing measurement orientations – $(\\vec{a}_1, \\vec{b}_1), (\\vec{a}_1, \\vec{b}_2), (\\vec{a}_1, \\vec{b}_3), (\\vec{a}_2, \\vec{b}_2), (\\vec{a}_2, \\vec{b}_3), (\\vec{a}_3, \\vec{b}_1)$, and $(\\vec{a}_3, \\vec{b}_3)$ – are used to evaluate the existence of potential eavesdroppers.  \n",
    "The measurement results of the second group can be revealed publicly to evaluate via the CHSH inequality if the channel is corrupted or not. The CHSH inequality requires the subset $(\\vec{a}_1, \\vec{b}_1), (\\vec{a}_1, \\vec{b}_3), (\\vec{a}_3, \\vec{b}_1)$, and $(\\vec{a}_3, \\vec{b}_3)$ to work and yields $-2\\sqrt{2}$ if the quantum channel is not corrupted and hence secure.  \n",
    "The CHSH inequality is true, meaning the absolute value of the result is $| S | \\leq 2$, if the quantum channel **is intercepted** and one or both photons are disturbed and hence lost some aspects of their ”quantumness.” Unless the CHSH inequality is true, Alice and Bob can proceed and deﬁne an arbitrary subset of the group with the same measurement procedure to serve as a secret key."
   ]
  },
  {
   "cell_type": "markdown",
   "metadata": {},
   "source": [
    "## *Simulation* \n",
    "\n",
    "In this section we simulate the E91 quantum key distribution protocol *without* the presence of an eavesdropper."
   ]
  },
  {
   "cell_type": "code",
   "execution_count": 1,
   "metadata": {},
   "outputs": [],
   "source": [
    "# useful packages \n",
    "import numpy as np\n",
    "import random\n",
    "import math\n",
    "\n",
    "# importing the QISKit\n",
    "from qiskit import QuantumCircuit, QuantumRegister, ClassicalRegister, execute, BasicAer\n",
    "\n",
    "# import basic plot tools\n",
    "from qiskit.tools.visualization import circuit_drawer, plot_histogram"
   ]
  },
  {
   "cell_type": "markdown",
   "metadata": {},
   "source": [
    "### *Step one: creating the singlets*\n",
    "\n",
    "In the first step Alice and Bob receive their qubits of the singlet states $\\lvert\\Psi^-\\rangle$ created by Charlie.\n",
    "\n",
    "For our simulation, we need registers with two quantum bits and four classical bits (the other two classical bits are later used for modeling eavesdropping)."
   ]
  },
  {
   "cell_type": "code",
   "execution_count": 2,
   "metadata": {},
   "outputs": [],
   "source": [
    "# Creating registers\n",
    "qr = QuantumRegister(2, name=\"qr\")\n",
    "cr = ClassicalRegister(4, name=\"cr\")"
   ]
  },
  {
   "cell_type": "markdown",
   "metadata": {},
   "source": [
    "Let us assume that qubits *qr\\[0\\]* and *qr\\[1\\]* belong to Alice and Bob respetively.\n",
    "In classical bits *cr\\[0\\]* and *cr\\[1\\]* Alice and Bob store their measurement results, and classical bits *cr\\[2\\]* and *cr\\[3\\]* are used by Eve to store her measurement results of Alice's and Bob's qubits.\n",
    "\n",
    "Now Charlie creates a singlet state.  \n",
    "\n",
    "**Exercise 1:** Implement the circuit that prepares the singlet state (1 point)   \n",
    "Create circuit, called `singlet_device`,  that prepares the $\\lvert\\Psi^-\\rangle$\n",
    "\n",
    "Using the following sequence of gates, we prepare our state.\n",
    "$$CNOT\\otimes(H\\otimes I)(X\\otimes X)(|0\\rangle\\otimes|0\\rangle)=$$\n",
    "$$CNOT\\otimes(H\\otimes I)(X|0\\rangle\\otimes X|0\\rangle)=$$\n",
    "$$CNOT\\otimes(H\\otimes I)(|1\\rangle\\otimes |1\\rangle)=$$\n",
    "$$CNOT\\otimes(H|1\\rangle\\otimes I|1\\rangle)=$$\n",
    "$$\\cfrac{1}{\\sqrt2}CNOT\\otimes(|0\\rangle-|1\\rangle)\\otimes|1\\rangle=$$\n",
    "$$\\cfrac{1}{\\sqrt2}CNOT\\otimes(|01\\rangle-|11\\rangle)=$$\n",
    "$$\\cfrac{1}{\\sqrt2}(|01\\rangle-|10\\rangle)=|\\Psi^-\\rangle$$"
   ]
  },
  {
   "cell_type": "code",
   "execution_count": 3,
   "metadata": {},
   "outputs": [
    {
     "data": {
      "text/plain": [
       "<qiskit.circuit.instructionset.InstructionSet at 0x7fef812edb90>"
      ]
     },
     "execution_count": 3,
     "metadata": {},
     "output_type": "execute_result"
    }
   ],
   "source": [
    "singlet_device = QuantumCircuit(qr, cr)\n",
    "singlet_device.x(qr[0])\n",
    "singlet_device.x(qr[1])\n",
    "singlet_device.h(qr[0])\n",
    "singlet_device.cx(qr[0], qr[1])\n"
   ]
  },
  {
   "cell_type": "code",
   "execution_count": 4,
   "metadata": {},
   "outputs": [
    {
     "data": {
      "image/png": "[encoded data removed]",
      "text/plain": [
       "<Figure size 369.628x204.68 with 1 Axes>"
      ]
     },
     "execution_count": 4,
     "metadata": {},
     "output_type": "execute_result"
    }
   ],
   "source": [
    "singlet_device.draw(output='mpl')"
   ]
  },
  {
   "cell_type": "markdown",
   "metadata": {},
   "source": [
    "Qubits *qr\\[0\\]* and *qr\\[1\\]* are now entangled.\n",
    "After creating a singlet state, Charlie sends qubit *qr\\[0\\]* to Alice and qubit *qr\\[1\\]* to Bob."
   ]
  },
  {
   "cell_type": "markdown",
   "metadata": {},
   "source": [
    "### *Step two: measuring*"
   ]
  },
  {
   "cell_type": "markdown",
   "metadata": {},
   "source": [
    "First let us prepare the measurements which will be used by Alice and Bob.\n",
    "We define $A(\\vec{a}_i) = \\vec{a}_i \\cdot \\vec{\\sigma}$ and $B(\\vec{b}_j) = \\vec{b}_j \\cdot \\vec{\\sigma}$ as the projection observables used by Alice and Bob for their measurements.\n",
    "To perform these measurements, the standard basis $Z$ must be rotated to the proper basis when it is needed.\n",
    "\n",
    "For example, the basis defined by the vector $\\vec{n} = (\\sin{\\theta}\\cos{\\phi}, \\sin{\\theta}\\sin{\\phi}, \\cos{\\theta})$ is   \n",
    "\n",
    "$$ \n",
    "\\{|\\psi_n\\rangle, |\\psi_n^\\perp\\rangle\\}=\\quad\n",
    "\\left\\{\\cos{\\theta/2}|0\\rangle + e^{i\\phi}\\sin{\\theta/2}|1\\rangle, \\quad\n",
    "\\sin{\\theta/2}|0\\rangle - e^{i\\phi}\\cos{\\theta/2}|1\\rangle\\right\\},\n",
    "$$  \n",
    "\n",
    "and to turn it into a $Z$-basis measurement, one should apply the unitary transformation first and then measure in $Z$-basis. The unitary transformation is  \n",
    "\n",
    "$$\n",
    "U = |0\\rangle\\langle \\psi_n| + |1\\rangle\\langle \\psi_n^\\perp|.\n",
    "$$  \n",
    "\n",
    "The $U_1$, $U_2$ and $U_3$ _physical gates_ can be handy for this purpose. These are operations to which other gates are compiled down before running on real IBM quantum hardware. The most general is the $U_3$  \n",
    "\n",
    "$$\n",
    "U_3(\\theta,\\phi,\\lambda) = \\begin{pmatrix} \\cos(\\theta/2) & -e^{i\\lambda}\\sin(\\theta/2) \\\\\\\\ e^{i\\phi}\\sin(\\theta/2) \n",
    "& e^{i\\lambda+i\\phi}\\cos(\\theta/2) \\end{pmatrix},\n",
    "$$\n",
    "\n",
    "and the others are \n",
    "\n",
    "$$\n",
    "U_1(\\lambda) = U_3(0,0,\\lambda) = \\begin{pmatrix} 1 & 0 \\\\\\\\ 0 & e^{i\\lambda} \\end{pmatrix}\n",
    "$$  \n",
    "\n",
    "and\n",
    "\n",
    "$$\n",
    "U_2(\\phi,\\lambda) = U_3(\\pi/2,\\phi,\\lambda) = \\frac{1}{\\sqrt{2}}\\begin{pmatrix} 1 & -e^{i\\lambda} \\\\\\\\ e^{i\\phi} & e^{i\\lambda+i\\phi} \\end{pmatrix}.\n",
    "$$\n",
    "\n",
    "So for our chosen measurement directions\n",
    "<img src=\"images/vectors.png\" width=\"500 px\" align=\"center\">\n",
    "\n",
    "we can derive the measurement bases  \n",
    "\n",
    "\\begin{align*}\n",
    "  \\vec{a}_1 &= (1,0,0) \\rightarrow \\left\\{|+\\rangle, |-\\rangle \\right\\} \\text{ basis }\\quad&\\\\\n",
    " \\vec{b}_2 &= (0,0,1) \\rightarrow \\left\\{|0\\rangle, |1\\rangle \\right\\} \\text{ basis }\\quad\\\\\n",
    " \\vec{a}_3 &= (0,0,1) \\rightarrow \\left\\{|0\\rangle, |1\\rangle \\right\\} \\text{ basis }\\quad\\\\\n",
    " \\vec{a}_2 &= \\left(\\frac{1}{\\sqrt{2}},0,\\frac{1}{\\sqrt{2}}\\right) \\rightarrow  \\left\\{\\cos{(\\pi/8)}|0\\rangle + \\sin{(\\pi/8)}|1\\rangle, \\quad\n",
    "  \\sin{(\\pi/8)}|0\\rangle - \\cos{(\\pi/8)}|1\\rangle \\right\\} \\text{ basis }\\quad \\\\\n",
    " \\vec{b}_1 &= \\left(\\frac{1}{\\sqrt{2}},0,\\frac{1}{\\sqrt{2}}\\right) \n",
    "  \\rightarrow  \\left\\{\\cos{(\\pi/8)}|0\\rangle + \\sin{(\\pi/8)}|1\\rangle, \\quad\n",
    "  \\sin{(\\pi/8)}|0\\rangle - \\cos{(\\pi/8)}|1\\rangle \\right\\} \\text{ basis }\\\\\n",
    "  \\vec{b}_3 &= \\left(-\\frac{1}{\\sqrt{2}},0,\\frac{1}{\\sqrt{2}}\\right) \\rightarrow  \\left\\{\\cos{(\\pi/8)}|0\\rangle - \\sin{(\\pi/8)}|1\\rangle, \\quad\n",
    "  -\\sin{(\\pi/8)}|0\\rangle - \\cos{(\\pi/8)}|1\\rangle \\right\\} \\text{ basis }\n",
    "\\end{align*}\n",
    "\n",
    "For $\\vec{a}_1$, the unitary to be applied before measurement is  \n",
    "\n",
    "$$U_{a_1} = |0\\rangle\\langle +| + |1\\rangle\\langle -| = H$$\n",
    "\n",
    "For $\\vec{a}_3 = \\vec{b}_2$, the unitary to be applied before measurement is the identity: noting is needed to apply, already in $Z$ basis:  \n",
    "\n",
    "$$U_{a_3/b_2} = I$$\n",
    "\n",
    "\n",
    "For $\\vec{a}_2 = \\vec{b}_1$, the unitary to be applied before measurement is  \n",
    "\n",
    "$$U_{a_2/b_1} = |0\\rangle \\Big(\\cos{(\\pi/8)}\\langle 0| + \\sin{(\\pi/8)}\\langle 1|\\Big)\n",
    "+ |1\\rangle\\Big(\\sin{(\\pi/8)}\\langle 0| - \\cos{(\\pi/8)}\\langle 1|\\Big) \n",
    "= \\begin{pmatrix} \\cos{(\\pi/8)} & \\sin{(\\pi/8)} \\\\\\\\ \\sin{(\\pi/8)} & -\\cos{(\\pi/8)} \\end{pmatrix}\n",
    "$$  \n",
    "\n",
    "You can check that $U_{a_2/b_1} = U_3(\\theta=\\pi/4, \\phi=0, \\lambda=\\pi)$  \n",
    "\n",
    "Finally, for $\\vec{b}_3$, the unitary to be applied before measurement is  \n",
    "\n",
    "$$U_{b_3} = |0\\rangle \\Big(\\cos{(\\pi/8)}\\langle 0| - \\sin{(\\pi/8)}\\langle 1|\\Big)\n",
    "+ |1\\rangle\\Big(-\\sin{(\\pi/8)}\\langle 0| - \\cos{(\\pi/8)}\\langle 1|\\Big) \n",
    "= \\begin{pmatrix} \\cos{(\\pi/8)} & -\\sin{(\\pi/8)} \\\\\\\\ -\\sin{(\\pi/8)} & -\\cos{(\\pi/8)} \\end{pmatrix}\n",
    "$$  \n",
    "\n",
    "You can check that $U_{b_3} = U_3(\\theta=\\pi/4, \\phi=\\pi, \\lambda=0)$  "
   ]
  },
  {
   "cell_type": "markdown",
   "metadata": {},
   "source": [
    "Blocks on the left side can be considered as *detectors* used by the participants to measure $Q, R, S$ and $T$ observables.\n",
    "Now we prepare the corresponding curcuits.  \n",
    "**Exercise 2:** implement the required basis measurement circuits (1 point)"
   ]
  },
  {
   "cell_type": "code",
   "execution_count": 5,
   "metadata": {},
   "outputs": [],
   "source": [
    "import math\n",
    "def measure_in_basis(basis, qubit, bit):\n",
    "    \"\"\" \n",
    "    measure the Alice's or Bob's qubit in the basis defined by the \"basis\"\n",
    "    param basis: str, 'a1', 'a2', ..., 'b3'\n",
    "    param qubit: int, 0 or 1\n",
    "    param bit: int, 0,1,2 or 3; classical reg to store the measured result\n",
    "    returns: circuit implementing the basis measurement \n",
    "    \"\"\"    \n",
    "    meas_device = QuantumCircuit(qr, cr)\n",
    "    \n",
    "    if basis == 'a1':\n",
    "        # measure in x direction\n",
    "        meas_device.h(qr[qubit])\n",
    "        \n",
    "    elif basis == 'a2' or basis == 'b1':\n",
    "        # measure in a2/b1 direction (U_a2/b1 basis)\n",
    "        meas_device.u3(math.pi/4, 0, math.pi, qr[qubit])\n",
    "        \n",
    "    elif basis == 'b3':\n",
    "        # measure in b3 direction (U_b3 basis)\n",
    "        meas_device.u3(math.pi/4, math.pi, 0, qr[qubit])\n",
    "    \n",
    "    elif basis == 'a3' or basis == 'b2':\n",
    "        meas_device.iden(qr[qubit])\n",
    "    \n",
    "    # add Z-basis measurement in the end\n",
    "    meas_device.measure(qr[qubit], cr[bit])\n",
    "    \n",
    "    return meas_device"
   ]
  },
  {
   "cell_type": "code",
   "execution_count": 6,
   "metadata": {},
   "outputs": [],
   "source": [
    "# Lists of measurement circuits\n",
    "alice_measurements = [measure_in_basis(basis, 0, 0) for basis in ['a1', 'a2', 'a3']]\n",
    "bob_measurements   = [measure_in_basis(basis, 1, 1) for basis in ['b1', 'b2', 'b3']]"
   ]
  },
  {
   "cell_type": "markdown",
   "metadata": {},
   "source": [
    "Supose Alice and Bob want to generate a secret key using $N$ singlet states prepared by Charlie. "
   ]
  },
  {
   "cell_type": "code",
   "execution_count": 7,
   "metadata": {},
   "outputs": [],
   "source": [
    "# Define the number of singlets N\n",
    "number_of_singlets = 5000"
   ]
  },
  {
   "cell_type": "markdown",
   "metadata": {},
   "source": [
    "Alice and Bob must choose the directions on which they will measure their qubits.\n",
    "To do this, Alice and Bob create the strings of numbers $\\theta$ and $\\tilde{\\theta}$ with randomly generated elements from $\\{1, 2, 3\\}$."
   ]
  },
  {
   "cell_type": "markdown",
   "metadata": {},
   "source": [
    "**Exercise 3:** create lists of randome numbers {1,2,3} of size `number_of_singlets` called `alice_meas_choices` and `bob_meas_choices` (1 point)"
   ]
  },
  {
   "cell_type": "code",
   "execution_count": 8,
   "metadata": {},
   "outputs": [],
   "source": [
    "alice_meas_choices = [] # string theta of Alice\n",
    "bob_meas_choices  =  [] # string theta_tilde of Bob\n",
    "for i in range (0, number_of_singlets):\n",
    "    alice_meas_choices.append(random.randint(1,3))\n",
    "    bob_meas_choices.append(random.randint(1,3))"
   ]
  },
  {
   "cell_type": "markdown",
   "metadata": {},
   "source": [
    "Now we combine Charlie's device and Alice's and Bob's detectors into one circuit (singlet + Alice's measurement + Bob's measurement)."
   ]
  },
  {
   "cell_type": "code",
   "execution_count": 9,
   "metadata": {},
   "outputs": [],
   "source": [
    "# create the joint measurement circuit\n",
    "# add Alice's and Bob's measurement circuits to the singlet state device\n",
    "# singlet device + Alice's measurement circuit or Bob's measurement circuit\n",
    "\n",
    "circuits = [singlet_device + alice_measurements[a-1] + bob_measurements[b-1]\n",
    "            for a,b in zip(alice_meas_choices, bob_meas_choices)]"
   ]
  },
  {
   "cell_type": "code",
   "execution_count": 10,
   "metadata": {},
   "outputs": [
    {
     "data": {
      "image/png": "[encoded data removed]",
      "text/plain": [
       "<Figure size 550.228x204.68 with 1 Axes>"
      ]
     },
     "execution_count": 10,
     "metadata": {},
     "output_type": "execute_result"
    }
   ],
   "source": [
    "circuits[2].draw(output='mpl')"
   ]
  },
  {
   "cell_type": "markdown",
   "metadata": {},
   "source": [
    "It tells us about the number of the singlet state received from Charlie, and the measurements applied by Alice and Bob.\n",
    "\n",
    "In the `circuits` list we have stored $N$ circuits similar to those shown in the figure below.\n",
    "![](images/AB_circuit.png)\n",
    "\n",
    "The idea is to model every act of the creation of the singlet state, the distribution of its qubits among the participants and the measurement in the chosen direction in the E91 protocol by executing each circuit from the `circuits` list with **ONE** shot."
   ]
  },
  {
   "cell_type": "markdown",
   "metadata": {},
   "source": [
    "### Step three: recording results\n",
    "Alice and Bob record the results of their measurements as elements of strings $a=(a_1 \\ldots a_N)$ and $b =(b_1 \\ldots b_N)$ respectively, where $a_i, b_j = \\pm 1$.  "
   ]
  },
  {
   "cell_type": "markdown",
   "metadata": {},
   "source": [
    "First let us execute the circuits on the simulator."
   ]
  },
  {
   "cell_type": "code",
   "execution_count": 11,
   "metadata": {},
   "outputs": [],
   "source": [
    "backend = BasicAer.get_backend('qasm_simulator')\n",
    "result = execute(circuits, backend=backend, shots=1).result()  # number of shots must be 1"
   ]
  },
  {
   "cell_type": "markdown",
   "metadata": {},
   "source": [
    "Look at the output of the execution of the first circuit."
   ]
  },
  {
   "cell_type": "code",
   "execution_count": 12,
   "metadata": {},
   "outputs": [
    {
     "data": {
      "text/plain": [
       "{'0001': 1}"
      ]
     },
     "execution_count": 12,
     "metadata": {},
     "output_type": "execute_result"
    }
   ],
   "source": [
    "result.get_counts(circuits[0])"
   ]
  },
  {
   "cell_type": "markdown",
   "metadata": {},
   "source": [
    "It consists of four digits.\n",
    "Recall that Alice and Bob store the results of the measurement in classical bits *cr\\[0\\]* and *cr\\[1\\]* (two digits on the right).\n",
    "Since we model the secret key generation process without the presence of an eavesdropper, the classical bits *cr\\[2\\]* and *cr\\[3\\]* are always 0.\n",
    "Also note that the output is the Python dictionary, in which the keys are the obtained results, and the values are the counts."
   ]
  },
  {
   "cell_type": "code",
   "execution_count": 13,
   "metadata": {},
   "outputs": [],
   "source": [
    "alice_meas_outcomes = [] # Alice's results (string a)\n",
    "bob_meas_outcomes = []   # Bob's results (string b)\n",
    "\n",
    "for i in range(number_of_singlets):\n",
    "    # execution result of the i-th circuit\n",
    "    # extract the key from the dict \n",
    "    a_outcome = list(result.get_counts(circuits[i]).keys())[0][2]\n",
    "    b_outcome = list(result.get_counts(circuits[i]).keys())[0][3]\n",
    "    alice_meas_outcomes.append(a_outcome)\n",
    "    bob_meas_outcomes.append(b_outcome)"
   ]
  },
  {
   "cell_type": "markdown",
   "metadata": {},
   "source": [
    "### *Step four: revealing the bases and generating key*"
   ]
  },
  {
   "cell_type": "markdown",
   "metadata": {},
   "source": [
    "In the previos step we have stored the measurement results of Alice and Bob in the `alice_meas_outcomes` and `bob_meas_outcomes` lists (strings $a$ and $b$).\n",
    "Now the participants compare their strings $\\theta$ and $\\tilde{\\theta}$ via the public classical channel.\n",
    "If Alice and Bob have measured their qubits of the *i*-th singlet in the same direction, then Alice records the result $a_i$ as the bit of the string $k^A$, and Bob records the result $-a_i$ as the bit of the string $k^B$)."
   ]
  },
  {
   "cell_type": "markdown",
   "metadata": {},
   "source": [
    "**Exercise 4:** implement the code to generate Alice's and Bob's keys (1 point)"
   ]
  },
  {
   "cell_type": "code",
   "execution_count": 14,
   "metadata": {},
   "outputs": [],
   "source": [
    "alice_key = [] # Alice's key string k^A\n",
    "bob_key = [] # Bob's key string k^B\n",
    "\n",
    "# comparing the stings with measurement choices\n",
    "for i in range(number_of_singlets):\n",
    "    # if Alice and Bob have measured in (a_2, b_1) or (a_3, b_2) directions\n",
    "    # YOUR CODE HERE\n",
    "    if(alice_meas_choices[i] == 2 and bob_meas_choices[i] == 1) or (alice_meas_choices[i] == 3 and bob_meas_choices[i] == 2):\n",
    "        alice_key.append(alice_meas_outcomes[i])\n",
    "        bobInteger = int(bob_meas_outcomes[i])\n",
    "        bobInverted = 1 - bobInteger\n",
    "        bob_key.append(str(bobInverted))\n",
    "        \n",
    "key_length = len(alice_key) # length of the secret key"
   ]
  },
  {
   "cell_type": "code",
   "execution_count": 15,
   "metadata": {},
   "outputs": [],
   "source": [
    "assert alice_key == bob_key"
   ]
  },
  {
   "cell_type": "markdown",
   "metadata": {},
   "source": [
    "The keys $k^A$ and $k^B$ are now stored in the `alice_key` and `bob_key` lists, respectively.\n",
    "The remaining results which were not used to create the keys can now be revealed.\n",
    "\n",
    "It is important for Alice and Bob to have the same keys, i.e. strings $k^A$ and $k^B$ must be equal.\n",
    "Let us compare the bits of strings $k^A$ and $k^{B}$ and find out how many there are mismatches in the keys."
   ]
  },
  {
   "cell_type": "code",
   "execution_count": 16,
   "metadata": {},
   "outputs": [],
   "source": [
    "key_mismatches = 0 # number of mismatching bits in Alice's and Bob's keys\n",
    "\n",
    "for j in range(key_length):\n",
    "    if alice_key[j] != bob_key[j]:\n",
    "        key_mismatches += 1"
   ]
  },
  {
   "cell_type": "code",
   "execution_count": 17,
   "metadata": {},
   "outputs": [
    {
     "data": {
      "text/plain": [
       "0"
      ]
     },
     "execution_count": 17,
     "metadata": {},
     "output_type": "execute_result"
    }
   ],
   "source": [
    "key_mismatches"
   ]
  },
  {
   "cell_type": "markdown",
   "metadata": {},
   "source": [
    "Note that since the strings $k^A$ and $k^{B}$ are secret, Alice and Bob have no information about mismatches in the bits of their keys.\n",
    "To find out the number of errors, the participants can perform a random sampling test.\n",
    "Alice randomly selects $\\delta$ bits of her secret key and tells Bob which bits she selected.\n",
    "Then Alice and Bob compare the values of these check bits.\n",
    "For large enough $\\delta$ the number of errors in the check bits will be close to the number of errors in the remaining bits."
   ]
  },
  {
   "cell_type": "markdown",
   "metadata": {},
   "source": [
    "### *Step five: CHSH correlation value test*"
   ]
  },
  {
   "cell_type": "markdown",
   "metadata": {},
   "source": [
    "Alice and Bob want to be sure that there was no interference in the communication session.\n",
    "To do that, they calculate the CHSH correlation value using the results obtained after the measurements $(\\vec{a}_1, \\vec{b}_1)$, $(\\vec{a}_1, \\vec{b}_3)$, $(\\vec{a}_3, \\vec{b}_1)$ and $(\\vec{a}_3, \\vec{b}_3)$ directions.\n",
    "Recall that it is equivalent to the measurement of the observables $Q \\otimes S$, $Q \\otimes T$, $R \\otimes S$ and $R \\otimes T$ respectively.\n",
    "\n",
    "According to quantum mechanics, the expectation value of the observable $E = \\sum_j e_j \\lvert e_j \\rangle \\langle e_j \\rvert$ in the state $\\lvert \\psi \\rangle$ is given by\n",
    "\n",
    "$$\\langle E \\rangle_\\psi =\n",
    "  \\mathrm{Tr}\\, \\Big[\\lvert\\psi\\rangle \\langle\\psi\\rvert \\, E\\Big] = \\\\\n",
    "  =\\mathrm{Tr}\\, \\Big[\\lvert\\psi\\rangle \\langle\\psi\\rvert \\sum_j e_j \\lvert e_j \\rangle \\langle e_j \\rvert \\Big]  \n",
    "  =\\sum_j e_j\\langle\\psi\\rvert e_j \\rangle \\langle e_j \\rvert \\lvert\\psi\\rangle = \n",
    "  \\sum_j e_j \\left|\\langle\\psi\\lvert e_j \\rangle \\right|^2 = \\\\\n",
    "  =\\sum_j e_j \\mathrm{P}_\\psi (E \\models e_j),$$\n",
    "where $\\lvert e_j \\rangle$ is the eigenvector of $E$ with the corresponding eigenvalue $e_j$, and $\\mathrm{P}_\\psi (E \\models e_j)$ is the probability of obtainig the result $e_j$ after measuring the observable $E$ in the state $\\lvert \\psi \\rangle$.\n",
    "\n",
    "A similar expression can be written for the joint measurement of the observables $A$ and $B$:\n",
    "\n",
    "$$\\langle A \\otimes B \\rangle_\\psi =\n",
    "  \\sum_{j,k} a_j b_k \\mathrm{P}_\\psi (A \\models a_j, B \\models b_k) =\n",
    "  \\sum_{j,k} a_j b_k \\mathrm{P}_\\psi (a_j, b_k). $$\n",
    " \n",
    "Note that if $A$ and $B$ are qubit observables, then the corresponding eigenvalues are $a_j, b_k = \\pm 1$.\n",
    "Thus, for the observables $A(\\vec{a}_i)$ and $B(\\vec{b}_j)$ and singlet state $\\lvert\\Psi^-\\rangle$ we can rewrite as\n",
    "\n",
    "$$\\langle A(\\vec{a}_i) \\otimes B(\\vec{b}_j) \\rangle =\n",
    "  \\mathrm{P}(-1,-1) - \\mathrm{P}(1,-1) - \\mathrm{P}(-1,1) + \\mathrm{P}(1,1).$$\n",
    "\n",
    "In our experiments, the probabilities on the right side can be calculated as follows:\n",
    "\n",
    "$$\\mathrm{P}(a_j, b_k) = \\frac{n_{a_j, b_k}(A \\otimes B)}{N(A \\otimes B)},$$\n",
    "\n",
    "where the numerator is the number of results $a_j, b_k$ obtained after measuring the observable $A \\otimes B$, and the denominator is the total number of measurements of the observable $A \\otimes B$.\n",
    "\n",
    "Since Alice and Bob revealed their strings $\\theta$ and $\\tilde{\\theta}$, they know what measurements they performed and what results they have obtained.\n",
    "With this data, participants calculate the expectation values."
   ]
  },
  {
   "cell_type": "markdown",
   "metadata": {},
   "source": [
    "**Exercise 5:** complete the below CHSH correlationfunction (1 point)"
   ]
  },
  {
   "cell_type": "code",
   "execution_count": 18,
   "metadata": {},
   "outputs": [],
   "source": [
    "# function that calculates CHSH correlation value\n",
    "def chsh_corr(result, circuits):\n",
    "    \"\"\"\n",
    "    computes the CHSH correlation <QS> - <QT> + <RS> + <RT> according the the above formulas\n",
    "    \"\"\"\n",
    "    # lists with the counts of measurement results\n",
    "    # each element represents the number of (0,0), (0,1), (1,0) and (1,1) results respectively\n",
    "    count_a1_b1 = [0, 0, 0, 0] # QS observable\n",
    "    count_a1_b3 = [0, 0, 0, 0] # QT observable\n",
    "    count_a3_b1 = [0, 0, 0, 0] # RS observable\n",
    "    count_a3_b3 = [0, 0, 0, 0] # RT observable\n",
    "\n",
    "    for i in range(number_of_singlets):\n",
    "\n",
    "        meas_bits = list(result.get_counts(circuits[i]).keys())[0][-1:-3:-1] # e.g. 10\n",
    "        \n",
    "        # YOUR CODE HERE\n",
    "        if(alice_meas_choices[i] == 1 and bob_meas_choices[i] == 1):\n",
    "            if(alice_meas_outcomes[i] == '0' and bob_meas_outcomes[i] == '0'):\n",
    "                count_a1_b1[0] += 1\n",
    "            elif(alice_meas_outcomes[i] == '0' and bob_meas_outcomes[i] == '1'):\n",
    "                count_a1_b1[1] += 1\n",
    "            elif(alice_meas_outcomes[i] == '1' and bob_meas_outcomes[i] == '0'):\n",
    "                count_a1_b1[2] += 1\n",
    "            elif(alice_meas_outcomes[i] == '1' and bob_meas_outcomes[i] == '1'):\n",
    "                count_a1_b1[1] += 1\n",
    "        \n",
    "        if(alice_meas_choices[i] == 1 and bob_meas_choices[i] == 3):\n",
    "            if(alice_meas_outcomes[i] == '0' and bob_meas_outcomes[i] == '0'):\n",
    "                count_a1_b3[0] += 1\n",
    "            elif(alice_meas_outcomes[i] == '0' and bob_meas_outcomes[i] == '1'):\n",
    "                count_a1_b3[1] += 1\n",
    "            elif(alice_meas_outcomes[i] == '1' and bob_meas_outcomes[i] == '0'):\n",
    "                count_a1_b3[2] += 1\n",
    "            elif(alice_meas_outcomes[i] == '1' and bob_meas_outcomes[i] == '1'):\n",
    "                count_a1_b3[1] += 1\n",
    "                \n",
    "        if(alice_meas_choices[i] == 3 and bob_meas_choices[i] == 1):\n",
    "            if(alice_meas_outcomes[i] == '0' and bob_meas_outcomes[i] == '0'):\n",
    "                count_a3_b1[0] += 1\n",
    "            elif(alice_meas_outcomes[i] == '0' and bob_meas_outcomes[i] == '1'):\n",
    "                count_a3_b1[1] += 1\n",
    "            elif(alice_meas_outcomes[i] == '1' and bob_meas_outcomes[i] == '0'):\n",
    "                count_a3_b1[2] += 1\n",
    "            elif(alice_meas_outcomes[i] == '1' and bob_meas_outcomes[i] == '1'):\n",
    "                count_a3_b1[1] += 1\n",
    "                \n",
    "        if(alice_meas_choices[i] == 3 and bob_meas_choices[i] == 3):\n",
    "            if(alice_meas_outcomes[i] == '0' and bob_meas_outcomes[i] == '0'):\n",
    "                count_a3_b3[0] += 1\n",
    "            elif(alice_meas_outcomes[i] == '0' and bob_meas_outcomes[i] == '1'):\n",
    "                count_a3_b3[1] += 1\n",
    "            elif(alice_meas_outcomes[i] == '1' and bob_meas_outcomes[i] == '0'):\n",
    "                count_a3_b3[2] += 1\n",
    "            elif(alice_meas_outcomes[i] == '1' and bob_meas_outcomes[i] == '1'):\n",
    "                count_a3_b3[1] += 1\n",
    "        \n",
    "        \n",
    "    # number of the results obtained from the measurements in a particular basis\n",
    "    total_11 = sum(count_a1_b1)\n",
    "    total_13 = sum(count_a1_b3)\n",
    "    total_31 = sum(count_a3_b1)\n",
    "    total_33 = sum(count_a3_b3) \n",
    "                    \n",
    "    # expectation values of QS, QT, RS and RT observables\n",
    "    expect_11 = (count_a1_b1[0] - count_a1_b1[1] - count_a1_b1[2] + count_a1_b1[3])/total_11 # -1/sqrt(2)\n",
    "    expect_13 = (count_a1_b3[0] - count_a1_b3[1] - count_a1_b3[2] + count_a1_b3[3])/total_13 # 1/sqrt(2)\n",
    "    expect_31 = (count_a3_b1[0] - count_a3_b1[1] - count_a3_b1[2] + count_a3_b1[3])/total_31 # -1/sqrt(2)\n",
    "    expect_33 = (count_a3_b3[0] - count_a3_b3[1] - count_a3_b3[2] + count_a3_b3[3])/total_33 # -1/sqrt(2)\n",
    "    print('expect value of 11= :', expect_11)\n",
    "    print('expect value of 13= :', expect_13)\n",
    "    print('expect value of 31= :', expect_31)\n",
    "    print('expect value of 33= :', expect_33)\n",
    "    \n",
    "    corr = expect_11 - expect_13 + expect_31 + expect_33 # calculate the CHSC correlation value\n",
    "    \n",
    "    return corr"
   ]
  },
  {
   "cell_type": "markdown",
   "metadata": {},
   "source": [
    "### *Output*"
   ]
  },
  {
   "cell_type": "markdown",
   "metadata": {},
   "source": [
    "Now let us print all the interesting values."
   ]
  },
  {
   "cell_type": "code",
   "execution_count": 19,
   "metadata": {},
   "outputs": [
    {
     "name": "stdout",
     "output_type": "stream",
     "text": [
      "expect value of 11= : -0.8321428571428572\n",
      "expect value of 13= : -0.22486288848263253\n",
      "expect value of 31= : -0.8584070796460177\n",
      "expect value of 33= : -0.8552875695732839\n",
      "CHSH correlation value: -2.321\n",
      "Length of the key: 1091\n",
      "Number of mismatching bits: 0\n",
      "\n"
     ]
    }
   ],
   "source": [
    "corr = chsh_corr(result, circuits) # CHSH correlation value\n",
    "\n",
    "# CHSH inequality test\n",
    "print('CHSH correlation value: ' + str(round(corr, 3)))\n",
    "\n",
    "# Keys\n",
    "print('Length of the key: ' + str(key_length))\n",
    "print('Number of mismatching bits: ' + str(key_mismatches) + '\\n')"
   ]
  },
  {
   "cell_type": "markdown",
   "metadata": {},
   "source": [
    "Finaly, Alice and Bob have the secret keys $k^A$ and $k^B$ (`alice_key` and `bob_key`)!\n",
    "Now they can use the one-time pad technique to encrypt and decrypt messages.\n",
    "\n",
    "Since we simulate the E91 protocol without the presence of Eve, the CHSH correlation value should be close to $-2\\sqrt{2} \\approx -2.828$.\n",
    "In addition, there should be no mismatching bits in the keys of Alice and Bob.\n",
    "Note also that there are 9 possible combinations of measurements that can be performed by Alice and Bob, but only 2 of them give the results using which the secret keys can be created.\n",
    "Thus, the ratio of the length of the keys to the number of singlets $N$ should be close to $2/9$."
   ]
  },
  {
   "cell_type": "markdown",
   "metadata": {},
   "source": [
    "## *Simulation of eavesdropping*"
   ]
  },
  {
   "cell_type": "markdown",
   "metadata": {},
   "source": [
    "Suppose some third party wants to interfere in the communication session of Alice and Bob and obtain a secret key.\n",
    "The eavesdropper can use the *intercept-resend* attacks: Eve intercepts one or both of the entangled qubits prepared by Charlie, measures the spin projections of these qubits, prepares new ones depending on the results obtained ($\\lvert 01 \\rangle$ or $\\lvert 10 \\rangle$) and sends them to Alice and Bob.\n",
    "A schematic representation of this process is shown in the figure below.\n",
    "![](images/ABE_circuit.png)\n",
    "\n",
    "Here $E(\\vec{n}_A) = \\vec{n}_A \\cdot \\vec{\\sigma}$ and $E(\\vec{n}_B) = \\vec{n}_B \\cdot \\vec{\\sigma}$ are the observables of the of the spin projections of Alice's and Bob's qubits onto the directions $\\vec{n}_A$ and $\\vec{n}_B$.\n",
    "It would be wise for Eve to choose these directions to be $\\vec{n}_A = \\vec{a}_2,\\vec{a}_3$ and $\\vec{n}_B = \\vec{b}_1,\\vec{b}_2$ since the results obtained from other measurements can not be used to create a secret key.\n",
    "\n",
    "Let us prepare the circuits for Eve's measurements."
   ]
  },
  {
   "cell_type": "markdown",
   "metadata": {},
   "source": [
    "**Exercise 6:** implement Eve's measurements (1 point)"
   ]
  },
  {
   "cell_type": "code",
   "execution_count": 20,
   "metadata": {},
   "outputs": [],
   "source": [
    "# measurement of Alice's qubit in a_2 direction (S basis)\n",
    "measure_E_a2 = measure_in_basis('a2', 0, 2)\n",
    "\n",
    "# measurement of Allice's qubit in a_3 direction (R basis)\n",
    "measure_E_a3 = measure_in_basis('a3', 0, 2)\n",
    "\n",
    "# measurement of Bob's qubit in b_1 direction (S basis)\n",
    "measure_E_b1 = measure_in_basis('b1', 1, 3)\n",
    "\n",
    "# measurement of Bob's qubit in b_2 direction (R basis)\n",
    "measure_E_b2 = measure_in_basis('b2', 1, 3)\n",
    "\n",
    "# lists of measurement circuits\n",
    "eve_measurements = [measure_E_a2, measure_E_a3, measure_E_b1, measure_E_b2]"
   ]
  },
  {
   "cell_type": "markdown",
   "metadata": {},
   "source": [
    "Like Alice and Bob, Eve must choose the directions onto which she will measure the qubits.\n",
    "In our simulation, the eavesdropper randomly chooses one of the observables $S \\otimes S$ or $R \\otimes R$ to measure ($R = Z_A, \\quad S= -\\frac{1}{\\sqrt{2}} (X_B + Z_B)$)."
   ]
  },
  {
   "cell_type": "code",
   "execution_count": 21,
   "metadata": {},
   "outputs": [],
   "source": [
    "# list of Eve's measurement choices\n",
    "eve_measurement_choices = []\n",
    "\n",
    "for j in range(number_of_singlets):      \n",
    "    if random.uniform(0, 1) <= 0.5: # in 50% of cases perform the SS measurement\n",
    "        eve_measurement_choices.append([0, 2])\n",
    "    else: # in 50% of cases perform the RR measurement\n",
    "        eve_measurement_choices.append([1, 3])  "
   ]
  },
  {
   "cell_type": "markdown",
   "metadata": {},
   "source": [
    "Like we did before, now we create the circuits with singlet states and detectors of Eve, Alice and Bob. "
   ]
  },
  {
   "cell_type": "markdown",
   "metadata": {},
   "source": [
    "**Exercise 7:** implement the circuits with singlet states and detectors of Eve, Alice and Bob as shown in the above picture (1 point)"
   ]
  },
  {
   "cell_type": "code",
   "execution_count": 22,
   "metadata": {},
   "outputs": [],
   "source": [
    "intercepted_circuits = [] # the list in which the created circuits will be stored\n",
    "\n",
    "for j in range(number_of_singlets):\n",
    "    \"\"\" singlet state circuit + \n",
    "        Eve's measurement circuit of Alice's qubit + \n",
    "        Eve's measurement circuit of Bob's qubit + \n",
    "        measurement circuit of Alice + \n",
    "        measurement circuit of Bob\n",
    "    \"\"\"\n",
    "    e = eve_measurement_choices[j]\n",
    "    a = alice_meas_choices\n",
    "    b = bob_meas_choices\n",
    "    # add the created circuit to the circuits list\n",
    "    c = singlet_device + eve_measurements[e[0]-1] + eve_measurements[e[1]-1] +\\\n",
    "    alice_measurements[a[j]-1] + bob_measurements[b[j]-1]\n",
    "    \n",
    "    intercepted_circuits.append(c)"
   ]
  },
  {
   "cell_type": "markdown",
   "metadata": {},
   "source": [
    "Now we execute all the prepared circuits on the simulator."
   ]
  },
  {
   "cell_type": "code",
   "execution_count": 23,
   "metadata": {},
   "outputs": [],
   "source": [
    "backend=BasicAer.get_backend('qasm_simulator')\n",
    "intercepted_result = execute(intercepted_circuits, backend=backend, shots=1).result()\n",
    "#print(intercepted_result) # uncomment for detailed result"
   ]
  },
  {
   "cell_type": "code",
   "execution_count": 24,
   "metadata": {},
   "outputs": [
    {
     "data": {
      "text/plain": [
       "{'0101': 1}"
      ]
     },
     "execution_count": 24,
     "metadata": {},
     "output_type": "execute_result"
    }
   ],
   "source": [
    "intercepted_result.get_counts(intercepted_circuits[5])"
   ]
  },
  {
   "cell_type": "markdown",
   "metadata": {},
   "source": [
    "We can see onto which directions Eve, Alice and Bob measured the spin projections and the results obtained.\n",
    "Recall that the bits *cr\\[2\\]* and *cr\\[3\\]* (two digits on the left) are used by Eve to store the results of her measurements."
   ]
  },
  {
   "cell_type": "markdown",
   "metadata": {},
   "source": [
    "Now Eve, Alice and Bob record the results of their measurements."
   ]
  },
  {
   "cell_type": "code",
   "execution_count": 25,
   "metadata": {},
   "outputs": [],
   "source": [
    "aliceOutcomes = [] # Alice's results (string a)\n",
    "bobOutcomes = [] # Bob's results (string a')\n",
    "\n",
    "# list of Eve's measurement results\n",
    "# the elements in the 1-st column are the results obtaned from the measurements of Alice's qubits\n",
    "# the elements in the 2-nd column are the results obtaned from the measurements of Bob's qubits\n",
    "eveOutcomes = [] \n",
    "\n",
    "# recording the measurement results\n",
    "for j in range(number_of_singlets):\n",
    "    \n",
    "    # Alice and Bob\n",
    "    bitstring = list(intercepted_result.get_counts(intercepted_circuits[j]).keys())[0] # extract a key from the dict\n",
    "    a_Outcome = bitstring[2]\n",
    "    b_Outcome = bitstring[3]\n",
    "    aliceOutcomes.append(a_Outcome)\n",
    "    bobOutcomes.append(b_Outcome)\n",
    "    \n",
    "    # Eve\n",
    "    eveOutcomes.append([a_Outcome, b_Outcome])"
   ]
  },
  {
   "cell_type": "markdown",
   "metadata": {},
   "source": [
    "As before, Alice, Bob and Eve create the secret keys using the results obtained after measuring the observables $S \\otimes S$ and $R \\otimes R$."
   ]
  },
  {
   "cell_type": "code",
   "execution_count": 26,
   "metadata": {},
   "outputs": [],
   "source": [
    "alice_key = [] # Alice's key string k^A\n",
    "bob_key = [] # Bob's key string k^B\n",
    "eve_key = []\n",
    "\n",
    "# comparing the stings with measurement choices\n",
    "for i in range(number_of_singlets):\n",
    "    # if Alice and Bob have measured in (a_2, b_1) or (a_3, b_2) directions\n",
    "    # record the i-th result obtained by Alice as the bit of the secret key k^A\n",
    "    # record the i-th flipped result obtained Bob as the bit of the secret key k^B\n",
    "    # record the i-th bits of the keys of Eve \n",
    "    # YOUR CODE HERE\n",
    "    if(alice_meas_choices[i] == 2 and bob_meas_choices[i] == 1) or (alice_meas_choices[i] == 3 and bob_meas_choices[i] == 2):\n",
    "        alice_key.append(aliceOutcomes[i])\n",
    "        bobInteger = int(bobOutcomes[i])\n",
    "        bobInverted = 1 - bobInteger\n",
    "        bob_key.append(str(bobInverted))\n",
    "        \n",
    "        eveInteger = int(eveOutcomes[i][1])\n",
    "        eveInverted = 1 - eveInteger\n",
    "        eve_key.append([eveOutcomes[i][0], str(eveInverted)])\n",
    "        \n",
    "key_length = len(alice_key) # length of the secret key"
   ]
  },
  {
   "cell_type": "markdown",
   "metadata": {},
   "source": [
    "To find out the number of mismatching bits in the keys of Alice, Bob and Eve we compare the lists *aliceKey*, *bobKey* and *eveKeys*."
   ]
  },
  {
   "cell_type": "code",
   "execution_count": 27,
   "metadata": {},
   "outputs": [],
   "source": [
    "abKeyMismatches = 0 # number of mismatching bits in the keys of Alice and Bob\n",
    "eaKeyMismatches = 0 # number of mismatching bits in the keys of Eve and Alice\n",
    "ebKeyMismatches = 0 # number of mismatching bits in the keys of Eve and Bob\n",
    "\n",
    "for j in range(key_length):\n",
    "    if alice_key[j] != bob_key[j]: \n",
    "        abKeyMismatches += 1\n",
    "    if eve_key[j][0] != alice_key[j]:\n",
    "        eaKeyMismatches += 1\n",
    "    if eve_key[j][1] != bob_key[j]:\n",
    "        ebKeyMismatches += 1"
   ]
  },
  {
   "cell_type": "markdown",
   "metadata": {},
   "source": [
    "It is also good to know what percentage of the keys is known to Eve."
   ]
  },
  {
   "cell_type": "code",
   "execution_count": 28,
   "metadata": {},
   "outputs": [],
   "source": [
    "eaKnowledge = (key_length - eaKeyMismatches)/key_length # Eve's knowledge of Bob's key\n",
    "ebKnowledge = (key_length - ebKeyMismatches)/key_length # Eve's knowledge of Alice's key"
   ]
  },
  {
   "cell_type": "markdown",
   "metadata": {},
   "source": [
    "Using the *chsh_corr* function defined above we calculate the CSHS correlation value."
   ]
  },
  {
   "cell_type": "code",
   "execution_count": 29,
   "metadata": {},
   "outputs": [
    {
     "name": "stdout",
     "output_type": "stream",
     "text": [
      "expect value of 11= : -0.8321428571428572\n",
      "expect value of 13= : -0.22486288848263253\n",
      "expect value of 31= : -0.8584070796460177\n",
      "expect value of 33= : -0.8552875695732839\n"
     ]
    }
   ],
   "source": [
    "corr = chsh_corr(intercepted_result, intercepted_circuits)"
   ]
  },
  {
   "cell_type": "code",
   "execution_count": 30,
   "metadata": {},
   "outputs": [
    {
     "data": {
      "text/plain": [
       "-2.3209746178795263"
      ]
     },
     "execution_count": 30,
     "metadata": {},
     "output_type": "execute_result"
    }
   ],
   "source": [
    "corr"
   ]
  },
  {
   "cell_type": "markdown",
   "metadata": {},
   "source": [
    "And now we print all the results."
   ]
  },
  {
   "cell_type": "code",
   "execution_count": 31,
   "metadata": {
    "scrolled": true
   },
   "outputs": [
    {
     "name": "stdout",
     "output_type": "stream",
     "text": [
      "CHSH correlation value: -2.321\n",
      "\n",
      "Length of the key: 1091\n",
      "Number of mismatching bits: 130\n",
      "\n",
      "Eve's knowledge of Alice's key: 100.0 %\n",
      "Eve's knowledge of Bob's key: 100.0 %\n"
     ]
    }
   ],
   "source": [
    "# CHSH inequality test\n",
    "print('CHSH correlation value: ' + str(round(corr, 3)) + '\\n')\n",
    "\n",
    "# Keys\n",
    "print('Length of the key: ' + str(key_length))\n",
    "print('Number of mismatching bits: ' + str(abKeyMismatches) + '\\n')\n",
    "\n",
    "print('Eve\\'s knowledge of Alice\\'s key: ' + str(round(eaKnowledge * 100, 2)) + ' %')\n",
    "print('Eve\\'s knowledge of Bob\\'s key: ' + str(round(ebKnowledge * 100, 2)) + ' %')"
   ]
  },
  {
   "cell_type": "markdown",
   "metadata": {},
   "source": [
    "Due to Eve's interference in the communication session, the CHSH correlation value is far away from $-2 \\sqrt{2}$.\n",
    "Alice and Bob see it and will not use the secret key to encrypt and decrypt any messages.\n",
    "It has been shown by Ekert that for any eavesdropping strategy and for any directions $\\vec{n}_A$, $\\vec{n}_B$ onto which Eve measures the spin projections of Alice's and Bob's qubits the following inequality can be written:\n",
    "\n",
    "$$ -\\sqrt{2} \\leqslant C \\leqslant \\sqrt{2},$$\n",
    "\n",
    "where $C$ is CHSH correlation value.\n",
    "The more Eve interferes in the communication session, the more she knows about the secret keys.\n",
    "But at the same time, the deviation of the CHSH correlation value from $-2\\sqrt{2}$ also increases.\n",
    "\n",
    "We can see that there are the mismatches in the keys of Alice and Bob.\n",
    "Where do they come from?\n",
    "After Eve measures the qubits of the singlet state $\\lvert \\Psi^- \\rangle$, she randomly obtains the results $-1,1$ or $1,-1$.\n",
    "Depending on the results obtained, the eavesdropper prepares the state $\\lvert \\varphi_1 \\rangle = \\lvert 01 \\rangle$ or $\\lvert \\varphi_2 \\rangle = \\lvert 10 \\rangle$ (in our simulation it is automatically provided by a measurement in the $Z$ basis) and sends its qubits to Alice and Bob.\n",
    "When Alice and Bob measure the observable $S \\otimes S$, they obtain any combination of results with probability $\\mathrm{P}_{\\varphi_{n}}(a_i, b_j)$.\n",
    "To see this, one can compare the results of the execution of Quantum Scores of $S_E \\otimes S_E \\vert S_A \\otimes S_B$ and $S_E \\otimes S_E \\vert R_A \\otimes R_B$ measurements (the subscripts denote who performs the measurement).\n",
    "\n",
    "In order to correct the mismatches in the keys of Alice and Bob classical error reconciliation algorithms are used.\n",
    "A very good description of the error correction methods can be found in [Quantum cryptography](https://arxiv.org/abs/quant-ph/0101098) by N. Gisin et al."
   ]
  }
 ],
 "metadata": {
  "kernelspec": {
   "display_name": "Python 3",
   "language": "python",
   "name": "python3"
  },
  "language_info": {
   "codemirror_mode": {
    "name": "ipython",
    "version": 3
   },
   "file_extension": ".py",
   "mimetype": "text/x-python",
   "name": "python",
   "nbconvert_exporter": "python",
   "pygments_lexer": "ipython3",
   "version": "3.7.6"
  }
 },
 "nbformat": 4,
 "nbformat_minor": 2
}
